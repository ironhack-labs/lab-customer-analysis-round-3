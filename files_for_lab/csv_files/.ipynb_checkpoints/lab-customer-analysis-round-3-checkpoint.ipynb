{
 "cells": [
  {
   "cell_type": "code",
   "execution_count": 1,
   "metadata": {},
   "outputs": [],
   "source": [
    "import pandas as pd\n",
    "import numpy as np\n",
    "import seaborn as sns\n",
    "import matplotlib.pyplot as plt"
   ]
  },
  {
   "cell_type": "code",
   "execution_count": 4,
   "metadata": {},
   "outputs": [],
   "source": [
    "data = pd.read_csv('merged_clean_ver2.csv')"
   ]
  },
  {
   "cell_type": "code",
   "execution_count": 6,
   "metadata": {},
   "outputs": [
    {
     "data": {
      "text/html": [
       "<div>\n",
       "<style scoped>\n",
       "    .dataframe tbody tr th:only-of-type {\n",
       "        vertical-align: middle;\n",
       "    }\n",
       "\n",
       "    .dataframe tbody tr th {\n",
       "        vertical-align: top;\n",
       "    }\n",
       "\n",
       "    .dataframe thead th {\n",
       "        text-align: right;\n",
       "    }\n",
       "</style>\n",
       "<table border=\"1\" class=\"dataframe\">\n",
       "  <thead>\n",
       "    <tr style=\"text-align: right;\">\n",
       "      <th></th>\n",
       "      <th>id</th>\n",
       "      <th>state</th>\n",
       "      <th>gender</th>\n",
       "      <th>median_home_val</th>\n",
       "      <th>median_household_income</th>\n",
       "      <th>ic2</th>\n",
       "      <th>ic3</th>\n",
       "      <th>ic4</th>\n",
       "      <th>ic5</th>\n",
       "      <th>avggift</th>\n",
       "      <th>target_d</th>\n",
       "    </tr>\n",
       "  </thead>\n",
       "  <tbody>\n",
       "    <tr>\n",
       "      <th>0</th>\n",
       "      <td>44060</td>\n",
       "      <td>FL</td>\n",
       "      <td>M</td>\n",
       "      <td>1158.437751</td>\n",
       "      <td>392</td>\n",
       "      <td>430</td>\n",
       "      <td>466</td>\n",
       "      <td>520</td>\n",
       "      <td>21975</td>\n",
       "      <td>28.000000</td>\n",
       "      <td>100.0</td>\n",
       "    </tr>\n",
       "    <tr>\n",
       "      <th>1</th>\n",
       "      <td>96093</td>\n",
       "      <td>IL</td>\n",
       "      <td>M</td>\n",
       "      <td>537.000000</td>\n",
       "      <td>365</td>\n",
       "      <td>415</td>\n",
       "      <td>410</td>\n",
       "      <td>473</td>\n",
       "      <td>19387</td>\n",
       "      <td>5.666667</td>\n",
       "      <td>7.0</td>\n",
       "    </tr>\n",
       "    <tr>\n",
       "      <th>2</th>\n",
       "      <td>43333</td>\n",
       "      <td>FL</td>\n",
       "      <td>F</td>\n",
       "      <td>725.000000</td>\n",
       "      <td>301</td>\n",
       "      <td>340</td>\n",
       "      <td>361</td>\n",
       "      <td>436</td>\n",
       "      <td>18837</td>\n",
       "      <td>4.111111</td>\n",
       "      <td>5.0</td>\n",
       "    </tr>\n",
       "    <tr>\n",
       "      <th>3</th>\n",
       "      <td>21885</td>\n",
       "      <td>NC</td>\n",
       "      <td>M</td>\n",
       "      <td>1158.437751</td>\n",
       "      <td>401</td>\n",
       "      <td>407</td>\n",
       "      <td>399</td>\n",
       "      <td>413</td>\n",
       "      <td>14014</td>\n",
       "      <td>27.277778</td>\n",
       "      <td>38.0</td>\n",
       "    </tr>\n",
       "    <tr>\n",
       "      <th>4</th>\n",
       "      <td>190108</td>\n",
       "      <td>FL</td>\n",
       "      <td>F</td>\n",
       "      <td>995.000000</td>\n",
       "      <td>252</td>\n",
       "      <td>280</td>\n",
       "      <td>316</td>\n",
       "      <td>348</td>\n",
       "      <td>17991</td>\n",
       "      <td>6.000000</td>\n",
       "      <td>5.0</td>\n",
       "    </tr>\n",
       "  </tbody>\n",
       "</table>\n",
       "</div>"
      ],
      "text/plain": [
       "       id state gender  median_home_val  median_household_income  ic2  ic3  \\\n",
       "0   44060    FL      M      1158.437751                      392  430  466   \n",
       "1   96093    IL      M       537.000000                      365  415  410   \n",
       "2   43333    FL      F       725.000000                      301  340  361   \n",
       "3   21885    NC      M      1158.437751                      401  407  399   \n",
       "4  190108    FL      F       995.000000                      252  280  316   \n",
       "\n",
       "   ic4    ic5    avggift  target_d  \n",
       "0  520  21975  28.000000     100.0  \n",
       "1  473  19387   5.666667       7.0  \n",
       "2  436  18837   4.111111       5.0  \n",
       "3  413  14014  27.277778      38.0  \n",
       "4  348  17991   6.000000       5.0  "
      ]
     },
     "execution_count": 6,
     "metadata": {},
     "output_type": "execute_result"
    }
   ],
   "source": [
    "data.head()"
   ]
  },
  {
   "cell_type": "code",
   "execution_count": null,
   "metadata": {},
   "outputs": [],
   "source": []
  }
 ],
 "metadata": {
  "kernelspec": {
   "display_name": "Python 3 (ipykernel)",
   "language": "python",
   "name": "python3"
  },
  "language_info": {
   "codemirror_mode": {
    "name": "ipython",
    "version": 3
   },
   "file_extension": ".py",
   "mimetype": "text/x-python",
   "name": "python",
   "nbconvert_exporter": "python",
   "pygments_lexer": "ipython3",
   "version": "3.9.12"
  },
  "vscode": {
   "interpreter": {
    "hash": "b6eefdfdaf961fc014a22513f67c1b2c066976fe7e86976f5328586044947a00"
   }
  }
 },
 "nbformat": 4,
 "nbformat_minor": 2
}
